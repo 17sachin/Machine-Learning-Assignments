{
  "nbformat": 4,
  "nbformat_minor": 0,
  "metadata": {
    "colab": {
      "name": "Assignment4_.ipynb",
      "provenance": [],
      "collapsed_sections": [],
      "authorship_tag": "ABX9TyNLn3jTwa3VfNgRtOs08fBc",
      "include_colab_link": true
    },
    "kernelspec": {
      "name": "python3",
      "display_name": "Python 3"
    },
    "language_info": {
      "name": "python"
    }
  },
  "cells": [
    {
      "cell_type": "markdown",
      "metadata": {
        "id": "view-in-github",
        "colab_type": "text"
      },
      "source": [
        "<a href=\"https://colab.research.google.com/github/17sachin/Machine-Learning-Assignments/blob/main/Assignment4_.ipynb\" target=\"_parent\"><img src=\"https://colab.research.google.com/assets/colab-badge.svg\" alt=\"Open In Colab\"/></a>"
      ]
    },
    {
      "cell_type": "markdown",
      "source": [
        "1.What are the key tasks involved in getting ready to work with machine learning modeling?\n",
        "\n",
        "Step 1: Collect Data.\n",
        "\n",
        "Step 2: Prepare the data.\n",
        "\n",
        "Step 3: Choose the model. \n",
        "\n",
        "Step 4 Train your machine model.\n",
        "\n",
        "Step 5: Evaluation. \n",
        "\n",
        "Step 6: Parameter Tuning. \n",
        "\n",
        "Step 7: Prediction or Inference."
      ],
      "metadata": {
        "id": "yC0CGRSlCOdT"
      }
    },
    {
      "cell_type": "markdown",
      "source": [
        "2.What are the different forms of data used in machine learning? Give a specific example for each of them.\n",
        "\n",
        "Most data can be categorized into 4 basic types from a Machine Learning perspective: numerical data, categorical data, time-series data, and text.\n",
        "\n",
        "Numerical data is any data where data points are exact numbers.whole number values like 10, 25, or 33\n",
        "\n",
        "Categorical data represents characteristics, such as a hockey player’s position, team, hometown. Categorical data can take numerical values\n",
        "\n",
        "Time series data is a sequence of numbers collected at regular intervals over some period of time.\n",
        "\n",
        "Text data is basically just words."
      ],
      "metadata": {
        "id": "klW90nVjCfYv"
      }
    },
    {
      "cell_type": "markdown",
      "source": [
        "3.Distinguish:\n",
        "\n",
        "1.Numeric vs. categorical attributes:\n",
        "\n",
        "Categorical data refers to a data type that can be stored and identified based on the names or labels given to them. Numerical data refers to the data that is in the form of numbers, and not in any language or descriptive form. Also known as qualitative data as it qualifies data before classifying it.\n",
        "\n",
        "2.Feature selection vs. dimensionality reduction:\n",
        "\n",
        "While both methods are used for reducing the number of features in a dataset, there is an important difference. Feature selection is simply selecting and excluding given features without changing them. Dimensionality reduction transforms features into a lower dimension."
      ],
      "metadata": {
        "id": "A4vIZCdYDFJD"
      }
    },
    {
      "cell_type": "markdown",
      "source": [
        "4.Make quick notes on any two of the following:\n",
        "\n",
        "1.The histogram:\n",
        "\n",
        "A histogram is a graphical display of data with bars of different heights, where each bar groups numbers into ranges. The taller the bars, the more the data falls in that range. It displays the shape as well as the spread of continuous sample data.\n",
        "\n",
        "2.Use a scatter plot:\n",
        "\n",
        "Scatter plots' primary uses are to observe and show relationships between two numeric variables. The dots in a scatter plot not only report the values of individual data points, but also patterns when the data are taken as a whole. A scatter plot can also be useful for identifying other patterns in data.\n",
        "\n",
        "3.PCA (Personal Computer Aid):\n",
        "\n",
        "Principal component analysis (PCA) is the process of computing the principal components and using them to perform a change of basis on the data, sometimes using only the first few principal components and ignoring the rest."
      ],
      "metadata": {
        "id": "UgAjvsBJDgbM"
      }
    },
    {
      "cell_type": "markdown",
      "source": [
        "5.Why is it necessary to investigate data? Is there a discrepancy in how qualitative and quantitative data are explored?\n",
        "\n",
        "If your data set is messy, building models will not help you to solve your problem. What will happen is “garbage in, garbage out.” In order to build a powerful machine learning algorithm. We need to explore and understand our data set before we define a predictive task and solve it.\n",
        "\n",
        "Generally speaking, quantitative analysis involves looking at the hard data, the actual numbers. Qualitative analysis is less tangible. It concerns subjective characteristics and opinions – things that cannot be expressed as a number.\n",
        "\n"
      ],
      "metadata": {
        "id": "svQrOsj_EAp6"
      }
    },
    {
      "cell_type": "markdown",
      "source": [
        "6.What are the various histogram shapes? What exactly are ‘bins'?\n",
        "\n",
        "Skewed Distribution. The skewed distribution is asymmetrical because a natural\n",
        "\n",
        "limit prevents outcomes on one side. \n",
        "\n",
        "Double-Peaked or Bimodal. \n",
        "\n",
        "Plateau or Multimodal Distribution.\n",
        "\n",
        "Edge Peak Distribution.\n",
        "\n",
        "Comb Distribution.\n",
        "\n",
        "Truncated or Heart-Cut Distribution.\n",
        "\n",
        "Dog Food Distribution.\n",
        "\n",
        "The towers or bars of a histogram are called bins. The height of each bin shows how many values from that data fall into that range."
      ],
      "metadata": {
        "id": "wkE1jSyLEWfT"
      }
    },
    {
      "cell_type": "markdown",
      "source": [
        "7.How do we deal with data outliers?\n",
        "\n",
        "5 ways to deal with outliers in data\n",
        "\n",
        "Set up a filter in your testing tool. Even though this has a little cost, filtering out outliers is worth it.\n",
        "\n",
        "Remove or change outliers during post-test analysis. \n",
        "\n",
        "Change the value of outliers. \n",
        "\n",
        "Consider the underlying distribution. \n",
        "\n",
        "Consider the value of mild outliers."
      ],
      "metadata": {
        "id": "lP-jfkp_E2-L"
      }
    },
    {
      "cell_type": "markdown",
      "source": [
        "8.What are the various central inclination measures? Why does mean vary too much from median in certain data sets?\n",
        "\n",
        "Three of the many ways to measure central tendency are the mean, median and mode.\n",
        "\n",
        "Outliers and skewed data have a smaller effect on the median. ... Consequently, when some of the values are more extreme, the effect on the median is smaller. Of course, with other types of changes, the median can change. When you have a skewed distribution, the median is a better measure of central tendency than the mean\n"
      ],
      "metadata": {
        "id": "fVTttGjbFSDR"
      }
    },
    {
      "cell_type": "markdown",
      "source": [
        "9.Describe how a scatter plot can be used to investigate bivariate relationships. Is it possible to find outliers using a scatter plot?\n",
        "\n",
        "A scatter plot is used when a variable exists that is below the control of the experimenter.If no dependent variable exists, either type of variable can be plotted on either axis and a scatter plot will illustrate only the degree of correlation (not causation) between two variables.\n",
        "\n",
        "If there is a regression line on a scatter plot, you can identify outliers. An outlier for a scatter plot is the point or points that are farthest from the regression line. ... If one point of a scatter plot is farther from the regression line than some other point, then the scatter plot has at least one outlier.\n",
        "\n"
      ],
      "metadata": {
        "id": "K4OcPBI_FlEc"
      }
    },
    {
      "cell_type": "markdown",
      "source": [
        "10.Describe how cross-tabs can be used to figure out how two variables are related.\n",
        "\n",
        "Cross tabulation is a method to quantitatively analyze the relationship between multiple variables. Also known as contingency tables or cross tabs, cross tabulation groups variables to understand the correlation between different variables. It also shows how correlations change from one variable grouping to another"
      ],
      "metadata": {
        "id": "JrArDpTYF_XD"
      }
    }
  ]
}