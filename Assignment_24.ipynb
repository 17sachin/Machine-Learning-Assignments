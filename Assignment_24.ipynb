{
  "nbformat": 4,
  "nbformat_minor": 0,
  "metadata": {
    "colab": {
      "name": "Assignment_24.ipynb",
      "provenance": [],
      "collapsed_sections": [],
      "authorship_tag": "ABX9TyNI/FmJFqZtdKzKEKuTbZ4R",
      "include_colab_link": true
    },
    "kernelspec": {
      "name": "python3",
      "display_name": "Python 3"
    },
    "language_info": {
      "name": "python"
    }
  },
  "cells": [
    {
      "cell_type": "markdown",
      "metadata": {
        "id": "view-in-github",
        "colab_type": "text"
      },
      "source": [
        "<a href=\"https://colab.research.google.com/github/17sachin/Machine-Learning-Assignments/blob/main/Assignment_24.ipynb\" target=\"_parent\"><img src=\"https://colab.research.google.com/assets/colab-badge.svg\" alt=\"Open In Colab\"/></a>"
      ]
    },
    {
      "cell_type": "markdown",
      "source": [
        "1.What is your definition of clustering? What are a few clustering algorithms you might think of?\n",
        "\n",
        "Clustering is the task of dividing the population or data points into a number of groups such that data points in the same groups are more similar to other data points in the same group than those in other groups.\n",
        "\n",
        "Clustering Algorithms\n",
        "Affinity Propagation.\n",
        "Agglomerative Clustering.\n",
        "BIRCH.\n",
        "DBSCAN.\n",
        "K-Means.\n",
        "Mini-Batch K-Means.\n",
        "Mean Shift.\n",
        "OPTICS."
      ],
      "metadata": {
        "id": "68URTVUSKI2Y"
      }
    },
    {
      "cell_type": "markdown",
      "source": [
        "2.What are some of the most popular clustering algorithm applications?\n",
        "\n",
        "Clustering technique is used in various applications such as market research and customer segmentation, biological data and medical imaging, search result clustering, recommendation engine, pattern recognition, social network analysis, image processing, etc."
      ],
      "metadata": {
        "id": "go8JcpqMKXPh"
      }
    },
    {
      "cell_type": "markdown",
      "source": [
        "3.When using K-Means, describe two strategies for selecting the appropriate number of clusters.\n",
        "\n",
        "The optimal number of clusters can be defined as follow: Compute clustering algorithm (e.g., k-means clustering) for different values of k. For instance, by varying k from 1 to 10 clusters. For each k, calculate the total within-cluster sum of square (wss). Plot the curve of wss according to the number of clusters k."
      ],
      "metadata": {
        "id": "QuKkt5LdKlY4"
      }
    },
    {
      "cell_type": "markdown",
      "source": [
        "4.What is mark propagation and how does it work? Why would you do it, and how would you do it?\n",
        "\n"
      ],
      "metadata": {
        "id": "eNP5OaVIKwG_"
      }
    },
    {
      "cell_type": "markdown",
      "source": [
        "5.Provide two examples of clustering algorithms that can handle large datasets. And two that look for high-density areas?\n",
        "\n",
        "Traditional K-means clustering works well when applied to small datasets. Large datasets must be clustered such that every other entity or data point in the cluster is similar to any other entity in the same cluster. Clustering problems can be applied to several clustering disciplines.\n",
        "\n",
        "Graph based method is one of the best used traditional clustering techniques. The advantage of graph based method to that of other methods is that the users need not know the number of clusters in advance. It is simple and the clusters are created by assigning the thresholds.\n"
      ],
      "metadata": {
        "id": "4Xoubz_hLC2o"
      }
    },
    {
      "cell_type": "markdown",
      "source": [
        "6.Can you think of a scenario in which constructive learning will be advantageous? How can you go about putting it into action?\n",
        "\n"
      ],
      "metadata": {
        "id": "3RDbPEOoLToR"
      }
    },
    {
      "cell_type": "markdown",
      "source": [
        "7.How do you tell the difference between anomaly and novelty detection?\n",
        "\n",
        "In outlier detection, you dataset may already have outliers and your goal is to identify such outliers. Both novelty detection and outlier detection are used to detect anomalies. Outlier detection is an unsupervised anomaly detection algorithm. Novelty detection is a semi-supervised anomaly detection algorithm."
      ],
      "metadata": {
        "id": "_9J5DRUPLgv3"
      }
    },
    {
      "cell_type": "markdown",
      "source": [
        "8.What is a Gaussian mixture, and how does it work? What are some of the things you can do about it?\n",
        "\n",
        "Gaussian Mixture Models (GMMs) assume that there are a certain number of Gaussian distributions, and each of these distributions represent a cluster. Hence, a Gaussian Mixture Model tends to group the data points belonging to a single distribution together.\n",
        "\n",
        "A Gradient Boosting Machine or GBM combines the predictions from multiple decision trees to generate the final predictions. ... So, every successive decision tree is built on the errors of the previous trees. This is how the trees in a gradient boosting machine algorithm are built sequentially.\n"
      ],
      "metadata": {
        "id": "b-DIpHlTLoaw"
      }
    },
    {
      "cell_type": "markdown",
      "source": [
        "9.When using a Gaussian mixture model, can you name two techniques for determining the correct number of clusters?\n",
        "\n",
        "Assessing Gaussian mixture distribution by cross validation\n",
        "Divide the data to train (90%) and test (10%) by 10-fold cross-validation (i.e. perform 10 experiments where each time a different part is the test).\n",
        "Fit GMMs with K components.\n",
        "Check the mean log pdf of the test data using the trained GMM.\n",
        "\n",
        "Gaussian mixture models (GMMs) are often used for data clustering. You can use GMMs to perform either hard clustering or soft clustering on query data. To perform hard clustering, the GMM assigns query data points to the multivariate normal components that maximize the component posterior probability, given the data."
      ],
      "metadata": {
        "id": "q4h6b4vOL3ZI"
      }
    }
  ]
}