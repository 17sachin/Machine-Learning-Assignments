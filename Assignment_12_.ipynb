{
  "nbformat": 4,
  "nbformat_minor": 0,
  "metadata": {
    "colab": {
      "name": "Assignment_12_.ipynb",
      "provenance": [],
      "collapsed_sections": [],
      "authorship_tag": "ABX9TyNSB9gph8DcgWAhnmYfOdYw",
      "include_colab_link": true
    },
    "kernelspec": {
      "name": "python3",
      "display_name": "Python 3"
    },
    "language_info": {
      "name": "python"
    }
  },
  "cells": [
    {
      "cell_type": "markdown",
      "metadata": {
        "id": "view-in-github",
        "colab_type": "text"
      },
      "source": [
        "<a href=\"https://colab.research.google.com/github/17sachin/Machine-Learning-Assignments/blob/main/Assignment_12_.ipynb\" target=\"_parent\"><img src=\"https://colab.research.google.com/assets/colab-badge.svg\" alt=\"Open In Colab\"/></a>"
      ]
    },
    {
      "cell_type": "markdown",
      "source": [
        "1.What is prior probability? Give an example..\n",
        "\n",
        "Prior probability shows the likelihood of an outcome in a given dataset. For example, in the mortgage case, P(Y) is the default rate on a home mortgage, which is 2%. P(Y|X) is called the conditional probability, which provides the probability of an outcome given the evidence, that is, when the value of X is known."
      ],
      "metadata": {
        "id": "vVbEWKmFQhrW"
      }
    },
    {
      "cell_type": "markdown",
      "source": [
        "2.What is posterior probability? Give an example.\n",
        "\n",
        "Posterior probability is a revised probability that takes into account new available information. For example, let there be two urns, urn A having 5 black balls and 10 red balls and urn B having 10 black balls and 5 red balls. Now if an urn is selected at random, the probability that urn A is chosen is 0.5\n",
        "\n",
        "Posterior probability = prior probability + new evidence (called likelihood). For example, historical data suggests that around 60% of students who start college will graduate within 6 years."
      ],
      "metadata": {
        "id": "QJlmueK-QwHF"
      }
    },
    {
      "cell_type": "markdown",
      "source": [
        "3.What is likelihood probability? Give an example.\n",
        "\n",
        "Probability corresponds to finding the chance of something given a sample distribution of the data, while on the other hand, Likelihood refers to finding the best distribution of the data given a particular value of some feature or some situation in the data."
      ],
      "metadata": {
        "id": "CUcHNYFoQ9Jm"
      }
    },
    {
      "cell_type": "markdown",
      "source": [
        "4.What is Naïve Bayes classifier? Why is it named so?\n",
        "\n",
        "Naïve Bayes Classifier is one of the simple and most effective Classification algorithms which helps in building the fast machine learning models that can make quick predictions. It is a probabilistic classifier, which means it predicts on the basis of the probability of an object"
      ],
      "metadata": {
        "id": "qVmgc_WYRDcN"
      }
    },
    {
      "cell_type": "markdown",
      "source": [
        "5.What is optimal Bayes classifier?\n",
        "\n",
        "Bayes Optimal Classifier is a probabilistic model that finds the most probable prediction using the training data and space of hypotheses to make a prediction for a new data instance"
      ],
      "metadata": {
        "id": "kAWyfHR7RYZP"
      }
    },
    {
      "cell_type": "markdown",
      "source": [
        "6.Write any two features of Bayesian learning methods.\n",
        "\n",
        "In statistical terms, the posterior probability is the probability of event A occurring given that event B has occurred. Bayes' theorem thus gives the probability of an event based on new information that is, or may be related, to that event."
      ],
      "metadata": {
        "id": "kOiR2t7LRe4U"
      }
    },
    {
      "cell_type": "markdown",
      "source": [
        "7.Define the concept of consistent learners.\n",
        "\n",
        "A learner L using a hypothesis H and training data D is said to be a consistent learner if it always outputs a hypothesis with zero error on D whenever H contains such a hypothesis. \n",
        "\n",
        "• By definition, a consistent learner must produce a hypothesis in the version space for H given D."
      ],
      "metadata": {
        "id": "0s9zJENZRo_9"
      }
    },
    {
      "cell_type": "markdown",
      "source": [
        "8.Write any two strengths of Bayes classifier.\n",
        "\n",
        "It is easy and fast to predict the class of the test data set. It also performs well in multi-class prediction. When assumption of independence holds, a Naive Bayes classifier performs better compare to other models like logistic regression and you need less training data."
      ],
      "metadata": {
        "id": "QmSWmpv4RyjV"
      }
    },
    {
      "cell_type": "markdown",
      "source": [
        "9.Write any two weaknesses of Bayes classifier.\n",
        "\n",
        "The greatest weakness of the naïve Bayes classifier is that it relies on an often-faulty assumption of equally important and independent features which results in biased posterior probabilities. Although this assumption is rarely met, in practice, this algorithm works surprisingly well."
      ],
      "metadata": {
        "id": "AsFJYycPR7RV"
      }
    },
    {
      "cell_type": "markdown",
      "source": [
        "10.Explain how Naïve Bayes classifier is used for:\n",
        "\n",
        "1.Text classification:\n",
        "\n",
        "Some examples of text classification are: Understanding audience sentiment from social media, Detection of spam and non-spam emails, Auto tagging of customer queries\n",
        "\n",
        "2.Spam filtering:\n",
        "\n",
        "Spam filters can detect spam emails. These helpful tools can recognize patterns that spam emails tend to follow. What is spam protection? When you get spam, in many cases, your email address was purchased by a person or company as part of a list.\n",
        "\n",
        "3.Market sentiment analysis:\n",
        "\n",
        "Market sentiment refers to the overall attitude of investors toward a particular security or financial market. It is the feeling or tone of a market, or its crowd psychology, as revealed through the activity and price movement of the securities traded in that market."
      ],
      "metadata": {
        "id": "7rr2ZoaISDdU"
      }
    },
    {
      "cell_type": "markdown",
      "source": [
        ""
      ],
      "metadata": {
        "id": "xQADndlbSX2M"
      }
    }
  ]
}