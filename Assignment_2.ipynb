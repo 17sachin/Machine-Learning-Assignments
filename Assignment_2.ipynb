{
  "nbformat": 4,
  "nbformat_minor": 0,
  "metadata": {
    "colab": {
      "name": "Assignment_2.ipynb",
      "provenance": [],
      "collapsed_sections": [],
      "authorship_tag": "ABX9TyPk5iY2vNM49CTo/mtMnUBC",
      "include_colab_link": true
    },
    "kernelspec": {
      "name": "python3",
      "display_name": "Python 3"
    },
    "language_info": {
      "name": "python"
    }
  },
  "cells": [
    {
      "cell_type": "markdown",
      "metadata": {
        "id": "view-in-github",
        "colab_type": "text"
      },
      "source": [
        "<a href=\"https://colab.research.google.com/github/17sachin/Machine-Learning-Assignments/blob/main/Assignment_2.ipynb\" target=\"_parent\"><img src=\"https://colab.research.google.com/assets/colab-badge.svg\" alt=\"Open In Colab\"/></a>"
      ]
    },
    {
      "cell_type": "markdown",
      "source": [
        "1.What is the concept of human learning? Please give two examples.\n",
        "\n",
        "It is the form of learning which requires higher order mental processes like thinking, reasoning, intelligence, etc. we learn different concepts from childhood. For example, when we see a dog and attach the term 'dog', we learn that the word dog refers to a particular animal.\n",
        "\n",
        "Learning is the process of acquiring new understanding, knowledge, behaviors, skills, values, attitudes, and preferences. Human learning starts at birth (it might even start before) and continues until death as a consequence of ongoing interactions between people and their environment"
      ],
      "metadata": {
        "id": "exK8nGG5APF5"
      }
    },
    {
      "cell_type": "markdown",
      "source": [
        "2.What different forms of human learning are there? Are there any machine learning equivalents?\n",
        "\n",
        "Scientists and psychologists have developed a number of different models to understand the different ways that people learn best. One popular theory, the VARK model, identifies four primary types of learners: visual, auditory, reading/writing, and kinesthetic.\n",
        "\n",
        "Linear regression, decision trees, random forest and support vector machines are some commonly used techniques that are actually examples of supervised learning\n"
      ],
      "metadata": {
        "id": "J1InG_Z0AfvZ"
      }
    },
    {
      "cell_type": "markdown",
      "source": [
        "3.What is machine learning, and how does it work? What are the key responsibilities of machine learning?\n",
        "\n",
        "Machine learning is a data analytics technique that teaches computers to do what comes naturally to humans and animals: learn from experience. Machine learning algorithms use computational methods to “learn” information directly from data without relying on a predetermined equation as a model.\n",
        "\n",
        "Machine learning empowers algorithms to learn. It can watch how people respond to websites and different types of content to best predict what will lead people closer to conversion. It is likely that machine learning will become even more significant in the near future."
      ],
      "metadata": {
        "id": "uMUDNKu6A0yo"
      }
    },
    {
      "cell_type": "markdown",
      "source": [
        "4.Define the terms 'penalty' and 'reward' in the context of reinforcement learning.\n",
        "\n",
        "In Reinforcement Learning (RL), agents are trained on a reward and punishment mechanism. The agent is rewarded for correct moves and punished for the wrong ones. In doing so, the agent tries to minimize wrong moves and maximize the right ones.\n",
        "\n",
        "A reinforcement learning algorithm, which may also be referred to as an agent, learns by interacting with its environment. The agent receives rewards by performing correctly and penalties for performing incorrectly. The agent learns without intervention from a human by maximizing its reward and minimizing its penalty."
      ],
      "metadata": {
        "id": "GgnhStKKBiBz"
      }
    },
    {
      "cell_type": "markdown",
      "source": [
        "5.Explain the term 'learning as a search'?\n",
        "\n",
        "Concept learning can be viewed as the task of searching through a large space of hypotheses implicitly defined by the hypothesis representation. • The goal of this search is to find the hypothesis that best fits the training examples.\n",
        "\n",
        "The application of machine learning is best thought of as search problem for the best mapping of inputs to outputs given the knowledge and resources available to you for a given project\n"
      ],
      "metadata": {
        "id": "BltXDFkNAZtY"
      }
    },
    {
      "cell_type": "markdown",
      "source": [
        "6.What are the various goals of machine learning? What is the relationship between these and human learning?\n",
        "\n",
        "The goal of ML, in simples words, is to understand the nature of (human and other forms of) learn- ing, and to build learning capability in computers.\n",
        "\n",
        "Its goal and usage is to build new and/or leverage existing algorithms to learn from data, in order to build generalizable models that give accurate predictions, or to find patterns, particularly with new and unseen similar data.\n",
        "\n",
        "The end-goal is for the machine to execute actions in an increasingly optimized manner by refining patterns and behavior through continuous learning\n",
        "\n"
      ],
      "metadata": {
        "id": "6OtxITdtCOPQ"
      }
    },
    {
      "cell_type": "markdown",
      "source": [
        "7.Illustrate the various elements of machine learning using a real-life illustration.\n",
        "\n",
        "Machine Learning:Real-World Examples\n",
        "\n",
        "Speech recognition. Machine learning can translate speech into text.\n",
        "\n",
        "Predictive analytics\n",
        "\n",
        "Statistical arbitrage\n",
        "\n",
        "Image recognition. Image recognition is a well-known and widespread example of machine learning in the real world\n",
        "\n",
        "\n"
      ],
      "metadata": {
        "id": "jzctywthCi4g"
      }
    },
    {
      "cell_type": "markdown",
      "source": [
        "8.Provide an example of the abstraction method.\n",
        "\n",
        "In simple terms, abstraction “displays” only the relevant attributes of objects and “hides” the unnecessary details. For example, when we are driving a car, we are only concerned about driving the car like start/stop the car, accelerate/ break, etc.This is a simple example of abstraction.\n",
        "\n"
      ],
      "metadata": {
        "id": "YIhZSCwAC9Fy"
      }
    },
    {
      "cell_type": "markdown",
      "source": [
        "9.What is the concept of generalization? What function does it play in the machine learning process?\n",
        "\n",
        "Generalizations differ from facts and concepts because they: – identify relationships between two or more concepts – construct explanations of cause and effect – enable predictions of a future occurrence of the relationship stated in the generalization.\n",
        "\n",
        "In machine learning, generalization is a definition to demonstrate how well is a trained model to classify or forecast unseen data.\n",
        "\n",
        "\n"
      ],
      "metadata": {
        "id": "ReaLqCBuDNHQ"
      }
    },
    {
      "cell_type": "markdown",
      "source": [
        ""
      ],
      "metadata": {
        "id": "ENKYTV3AD2iv"
      }
    },
    {
      "cell_type": "markdown",
      "source": [
        "10.What is classification, exactly? What are the main distinctions between classification and regression?\n",
        "\n",
        "Classification is a process of categorizing a given set of data into classes, It can be performed on both structured or unstructured data. The process starts with predicting the class of given data points. The classes are often referred to as target, label or categories\n",
        "\n",
        "The most significant difference between regression vs classification is that while regression helps predict a continuous quantity, classification predicts discrete class labels.\n",
        "\n",
        "\n"
      ],
      "metadata": {
        "id": "FzcxXiJmD29_"
      }
    },
    {
      "cell_type": "markdown",
      "source": [
        "11.What is regression, and how does it work? Give an example of a real-world problem that was solved using regression.\n",
        "\n",
        "Regression is a statistical method used in finance, investing, and other disciplines that attempts to determine the strength and character of the relationship between one dependent variable (usually denoted by Y) and a series of other variables (known as independent variables).\n",
        "\n",
        "Medical researchers often use linear regression to understand the relationship between drug dosage and blood pressure of patients. For example, researchers might administer various dosages of a certain drug to patients and observe how their blood pressure responds"
      ],
      "metadata": {
        "id": "DWBVTY5CEWyg"
      }
    },
    {
      "cell_type": "markdown",
      "source": [
        "12.Describe the clustering mechanism in detail.\n",
        "\n",
        "In clustering, a group of different data objects is classified as similar objects. One group means a cluster of data. Data sets are divided into different groups in the cluster analysis, which is based on the similarity of the data. After the classification of data into various groups, a label is assigned to the group\n",
        "\n",
        "Clustering is the task of dividing the population or data points into a number of groups such that data points in the same groups are more similar to other data points in the same group than those in other groups. In simple words, the aim is to segregate groups with similar traits and assign them into clusters"
      ],
      "metadata": {
        "id": "-kzlnGF7Ezqw"
      }
    },
    {
      "cell_type": "markdown",
      "source": [
        "13.Make brief observations on two of the following topics:\n",
        "\n",
        "i.Machine learning algorithms are used:\n",
        "\n",
        "Machine learning algorithms are mathematical model mapping methods used to learn or uncover underlying patterns embedded in the data. Machine learning comprises a group of computational algorithms that can perform pattern recognition, classification, and prediction on data by learning from existing data (training set).\n",
        "\n",
        "iv.Reinforcement learning is a form of learning based on positive reinforcement:\n",
        "\n",
        "Reinforcement learning is a machine learning training method based on rewarding desired behaviors and/or punishing undesired ones. In general, a reinforcement learning agent is able to perceive and interpret its environment, take actions and learn through trial and error.\n",
        "\n",
        "\n",
        "\n"
      ],
      "metadata": {
        "id": "NrjnUR9AE_Af"
      }
    }
  ]
}