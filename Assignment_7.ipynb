{
  "nbformat": 4,
  "nbformat_minor": 0,
  "metadata": {
    "colab": {
      "name": "Assignment_7.ipynb",
      "provenance": [],
      "collapsed_sections": [],
      "authorship_tag": "ABX9TyPJ2LHUv5Cnt+nh3jTDXhxV",
      "include_colab_link": true
    },
    "kernelspec": {
      "name": "python3",
      "display_name": "Python 3"
    },
    "language_info": {
      "name": "python"
    }
  },
  "cells": [
    {
      "cell_type": "markdown",
      "metadata": {
        "id": "view-in-github",
        "colab_type": "text"
      },
      "source": [
        "<a href=\"https://colab.research.google.com/github/17sachin/Machine-Learning-Assignments/blob/main/Assignment_7.ipynb\" target=\"_parent\"><img src=\"https://colab.research.google.com/assets/colab-badge.svg\" alt=\"Open In Colab\"/></a>"
      ]
    },
    {
      "cell_type": "markdown",
      "source": [
        "1.What is the definition of a target function? In the sense of a real-life example, express the target\n",
        "function. How is a target function&#39;s fitness assessed?\n",
        "\n",
        "A target function, in machine learning, is a method for solving a problem that an AI algorithm parses its training data to find. ... The function can then be used to find output data related to inputs for real problems where, unlike training sets, outputs are not included."
      ],
      "metadata": {
        "id": "DLG3B-Q0ZH2g"
      }
    },
    {
      "cell_type": "markdown",
      "source": [
        "2.What are predictive models, and how do they work? What are descriptive types, and how do you\n",
        "use them? Examples of both types of models should be provided. Distinguish between these two\n",
        "forms of models.\n",
        "\n",
        "A descriptive model will exploit the past data that are stored in databases and provide you with the accurate report. In a Predictive model, it identifies patterns found in past and transactional data to find risks and future outcomes."
      ],
      "metadata": {
        "id": "YJg7V_PaZMBz"
      }
    },
    {
      "cell_type": "markdown",
      "source": [
        "3.Describe the method of assessing a classification model's efficiency in detail. Describe the various\n",
        "measurement parameters.\n",
        "\n",
        "Classification accuracy.\n",
        "\n",
        "Confusion matrix.\n",
        "\n",
        "Precision and recall.\n",
        "\n",
        "F1 score.\n",
        "\n",
        "Sensitivity and specificity.\n",
        "\n",
        "ROC curve and AUC.\n",
        "\n"
      ],
      "metadata": {
        "id": "8TcgkspvZRTG"
      }
    },
    {
      "cell_type": "markdown",
      "source": [
        "5.Is it possible to boost the efficiency of a learning model? If so, please clarify how.\n",
        "\n",
        "Having more data is always a good idea. It allows the “data to tell for itself,” instead of relying on assumptions and weak correlations. Presence of more data results in better and accurate models"
      ],
      "metadata": {
        "id": "u05JdVbSZds2"
      }
    },
    {
      "cell_type": "markdown",
      "source": [
        "6. How would you rate an unsupervised learning model&#39;s success? What are the most common success indicators for an unsupervised learning model?\n",
        "\n",
        "In case of supervised learning, it is mostly done by measuring the performance metrics such as accuracy, precision, recall, AUC, etc. ... on the training set and the holdout sets. Such performance metrics help in deciding model viability."
      ],
      "metadata": {
        "id": "Fy0P6mtLZkZG"
      }
    },
    {
      "cell_type": "markdown",
      "source": [
        "7.Is it possible to use a classification model for numerical data or a regression model for categorical\n",
        "data with a classification model? Explain your answer.\n",
        "\n",
        "The regression line is a straight line. Whereas logistic regression is for classification problems, which predicts a probability range between 0 to 1. For example, predict whether a customer will make a purchase or not. The regression line is a sigmoid curve"
      ],
      "metadata": {
        "id": "K9BQh93zZvGV"
      }
    },
    {
      "cell_type": "markdown",
      "source": [
        "8.Describe the predictive modeling method for numerical values. What distinguishes it from\n",
        "categorical predictive modeling?\n",
        "\n",
        "Time series algorithms: These algorithms perform predictions based on time.\n",
        "Regression algorithms: These algorithms predict continuous variables which are based on other variables present in the data set."
      ],
      "metadata": {
        "id": "TBwQcpFNZzoG"
      }
    },
    {
      "cell_type": "markdown",
      "source": [
        ""
      ],
      "metadata": {
        "id": "wXh0cpF2Z8V1"
      }
    }
  ]
}