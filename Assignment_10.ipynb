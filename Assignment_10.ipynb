{
  "nbformat": 4,
  "nbformat_minor": 0,
  "metadata": {
    "colab": {
      "name": "Assignment_10.ipynb",
      "provenance": [],
      "collapsed_sections": [],
      "authorship_tag": "ABX9TyOZ3v6IIvpDXFfNbdTD4MeR",
      "include_colab_link": true
    },
    "kernelspec": {
      "name": "python3",
      "display_name": "Python 3"
    },
    "language_info": {
      "name": "python"
    }
  },
  "cells": [
    {
      "cell_type": "markdown",
      "metadata": {
        "id": "view-in-github",
        "colab_type": "text"
      },
      "source": [
        "<a href=\"https://colab.research.google.com/github/17sachin/Machine-Learning-Assignments/blob/main/Assignment_10.ipynb\" target=\"_parent\"><img src=\"https://colab.research.google.com/assets/colab-badge.svg\" alt=\"Open In Colab\"/></a>"
      ]
    },
    {
      "cell_type": "markdown",
      "source": [
        "1.Define the Bayesian interpretation of probability.\n",
        "\n",
        "Bayesian probability is an interpretation of the concept of probability, in which, instead of frequency or propensity of some phenomenon, probability is interpreted as reasonable expectation representing a state of knowledge or as quantification of a personal belief."
      ],
      "metadata": {
        "id": "cpL0b7W5dyIf"
      }
    },
    {
      "cell_type": "markdown",
      "source": [
        "2.Define probability of a union of two events with equation.\n",
        "\n",
        "The probability of the union of two events E and F (written E ∪ F \\displaystyle E\\cup F E∪F ) equals the sum of the probability of E and the probability of F minus the probability of E and F occurring together ( which is called the intersection of E and F and is written as E ∩ F \\displaystyle E\\cap F E∩F )."
      ],
      "metadata": {
        "id": "EMZ7zsnLd4Lc"
      }
    },
    {
      "cell_type": "markdown",
      "source": [
        "3.What is joint probability? What is its formula?\n",
        "\n",
        "If the probability of rolling a six on one die is P(X) and the probability of rolling a six on the second die P(Y), we can use the formula P(X,Y) = P(X) * P(Y) . Since the dice have six sides, and the probability of any side coming up is equal, P(X) and P(Y) both equal 1/6."
      ],
      "metadata": {
        "id": "RU-HA2dtd8ZP"
      }
    },
    {
      "cell_type": "markdown",
      "source": [
        "4.What is chain rule of probability?\n",
        "\n",
        "In probability theory, the chain rule (also called the general product rule) permits the calculation of any member of the joint distribution of a set of random variables using only conditional probabilities."
      ],
      "metadata": {
        "id": "v6X6h71ceBnv"
      }
    },
    {
      "cell_type": "markdown",
      "source": [
        "5.What is conditional probability means? What is the formula of it?\n",
        "\n",
        "Conditional probability: p(A|B) is the probability of event A occurring, given that event B occurs.  The probability of event A and event B occurring. It is the probability of the intersection of two or more events. The probability of the intersection of A and B may be written p(A ∩ B)."
      ],
      "metadata": {
        "id": "wjUgJYM0eHpm"
      }
    },
    {
      "cell_type": "markdown",
      "source": [
        "6.What are continuous random variables?\n",
        "\n",
        "If an experiment can result in an infinite, non-countable number of outcomes, then the random variable defined can be “continuous”. Whenever the value of a random variable is measured rather than counted, a continuous random variable is defined. Water level in the reservoir."
      ],
      "metadata": {
        "id": "6y4UaX1ReNZH"
      }
    },
    {
      "cell_type": "markdown",
      "source": [
        "7.What are Bernoulli distributions? What is the formula of it?\n",
        "\n",
        "Bernoulli distribution is a discrete probability distribution where the Bernoulli random variable can have only 0 or 1 as the outcome. p is the probability of success and 1 - p is the probability of failure. The mean of a Bernoulli distribution is E[X] = p and the variance, Var[X] = p(1-p)."
      ],
      "metadata": {
        "id": "HJeH0qiqeSaI"
      }
    },
    {
      "cell_type": "markdown",
      "source": [
        "8.What is binomial distribution? What is the formula?\n",
        "\n",
        "The binomial distribution is given by the formula: P(X= x) = nCxpxqn-x, where = 0, 1, 2, 3, … P(X = 6) = 105/512. Hence, the probability of getting exactly 6 heads is 105/512"
      ],
      "metadata": {
        "id": "NBMTL4Lveb_Q"
      }
    },
    {
      "cell_type": "markdown",
      "source": [
        "9.What is Poisson distribution? What is the formula?\n",
        "\n",
        "Poisson distribution, the mean of the distribution is represented by λ and e is constant, which is approximately equal to 2.71828. Then, the Poisson probability is: P(x, λ ) =(e– λ λx)/x! In Poisson distribution, the mean is represented as E(X) = λ.\n",
        "Simple Interest Rate Formula: Area Of A Circle ...\n",
        "Maths Project Work: Area Of Quadrant"
      ],
      "metadata": {
        "id": "nDLO43VJehTH"
      }
    },
    {
      "cell_type": "markdown",
      "source": [
        "10.Define covariance.\n",
        "\n",
        "Covariance is a measure of how much two random variables vary together. It's similar to variance, but where variance tells you how a single variable varies, co variance tells you how two variables vary together."
      ],
      "metadata": {
        "id": "SV5wicq7enOn"
      }
    },
    {
      "cell_type": "markdown",
      "source": [
        "11.Define correlation\n",
        "\n",
        "Correlation is a statistical tool which studies the relationship between two variables e.g. change in price leads to change in quantity demanded. Correlation studies and measures the direction and intensity of relationship among variables. It measures co-variation not causation."
      ],
      "metadata": {
        "id": "8UrXcSg2esU3"
      }
    },
    {
      "cell_type": "markdown",
      "source": [
        "12.Define sampling with replacement. Give example.\n",
        "\n",
        "Sampling with replacement is used to find probability with replacement. In other words, you want to find the probability of some event where there's a number of balls, cards or other objects, and you replace the item each time you choose one. Let's say you had a population of 7 people, and you wanted to sample 2."
      ],
      "metadata": {
        "id": "AA7llD9_e20f"
      }
    },
    {
      "cell_type": "markdown",
      "source": [
        "13.What is sampling without replacement? Give example.\n",
        "\n",
        "In sampling without replacement, each sample unit of the population has only one chance to be selected in the sample. For example, if one draws a simple random sample such that no unit occurs more than one time in the sample, the sample is drawn without replacement."
      ],
      "metadata": {
        "id": "3gXtv11Ue7WP"
      }
    },
    {
      "cell_type": "markdown",
      "source": [
        "14.What is hypothesis? Give example.\n",
        "\n",
        "A hypothesis is an assumption, an idea that is proposed for the sake of argument so that it can be tested to see if it might be true. ... A hypothesis is usually tentative; it's an assumption or suggestion made strictly for the objective of being tested"
      ],
      "metadata": {
        "id": "6NoQxSY3fCKW"
      }
    }
  ]
}