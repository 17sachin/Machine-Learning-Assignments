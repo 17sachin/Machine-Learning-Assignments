{
  "nbformat": 4,
  "nbformat_minor": 0,
  "metadata": {
    "colab": {
      "name": "Assignment_20.ipynb",
      "provenance": [],
      "collapsed_sections": [],
      "authorship_tag": "ABX9TyORMeVGuuUS9mvsqLWW6fFp",
      "include_colab_link": true
    },
    "kernelspec": {
      "name": "python3",
      "display_name": "Python 3"
    },
    "language_info": {
      "name": "python"
    }
  },
  "cells": [
    {
      "cell_type": "markdown",
      "metadata": {
        "id": "view-in-github",
        "colab_type": "text"
      },
      "source": [
        "<a href=\"https://colab.research.google.com/github/17sachin/Machine-Learning-Assignments/blob/main/Assignment_20.ipynb\" target=\"_parent\"><img src=\"https://colab.research.google.com/assets/colab-badge.svg\" alt=\"Open In Colab\"/></a>"
      ]
    },
    {
      "cell_type": "markdown",
      "source": [
        "1.What is the underlying concept of Support Vector Machines?\n",
        "\n",
        "SVM or Support Vector Machine is a linear model for classification and regression problems. It can solve linear and non-linear problems and work well for many practical problems. The idea of SVM is simple: The algorithm creates a line or a hyperplane which separates the data into classes"
      ],
      "metadata": {
        "id": "MG86V4ojQrmY"
      }
    },
    {
      "cell_type": "markdown",
      "source": [
        "2.What is the concept of a support vector?\n",
        "\n",
        "Support vectors are data points that are closer to the hyperplane and influence the position and orientation of the hyperplane. Using these support vectors, we maximize the margin of the classifier. Deleting the support vectors will change the position of the hyperplane. These are the points that help us build our SVM."
      ],
      "metadata": {
        "id": "C6huidNXQ31B"
      }
    },
    {
      "cell_type": "markdown",
      "source": [
        "3.When using SVMs, why is it necessary to scale the inputs?\n",
        "\n",
        "Feature scaling is crucial for some machine learning algorithms, which consider distances between observations because the distance between two observations differs for non-scaled and scaled cases. ... Hence, the distance between data points affects the decision boundary SVM chooses."
      ],
      "metadata": {
        "id": "ZPDMcCSQQ_rd"
      }
    },
    {
      "cell_type": "markdown",
      "source": [
        "4.When an SVM classifier classifies a case, can it output a confidence score? What about a percentage chance?\n",
        "\n",
        "An SVM classifier can output the distance between the test instance and the decision boundary, and you can use this as a confidence score. However, this score cannot be directly converted into an estimation of the class probability.\n"
      ],
      "metadata": {
        "id": "tGZWCspZRJO3"
      }
    },
    {
      "cell_type": "markdown",
      "source": [
        "5.Should you train a model on a training set with millions of instances and hundreds of features using the primal or dual form of the SVM problem?\n",
        "\n",
        "If there are millions of instances, you should definitely use the primal form, because the dual form will be much too slow. Say you trained an SVM classifier with an RBF kernel."
      ],
      "metadata": {
        "id": "h3zztxHORXW3"
      }
    },
    {
      "cell_type": "markdown",
      "source": [
        "6.Let's say you have used an RBF kernel to train an SVM classifier, but it appears to underfit the training collection. Is it better to raise or lower (gamma)? What about the letter C?\n",
        "\n"
      ],
      "metadata": {
        "id": "otNtcqMvRnv-"
      }
    },
    {
      "cell_type": "markdown",
      "source": [
        "7.To solve the soft margin linear SVM classifier problem with an off-the-shelf QP solver, how should the QP parameters (H, f, A, and b) be set?"
      ],
      "metadata": {
        "id": "2epKwe2mSHVL"
      }
    },
    {
      "cell_type": "markdown",
      "source": [
        "8.On a linearly separable dataset, train a LinearSVC. Then, using the same dataset, train an SVC and an SGDClassifier. See if you can get them to make a model that is similar to yours.\n",
        "\n"
      ],
      "metadata": {
        "id": "89Wgr9fWSMu_"
      }
    },
    {
      "cell_type": "markdown",
      "source": [
        "9.On the MNIST dataset, train an SVM classifier. You'll need to use one-versus-the-rest to assign all 10 digits because SVM classifiers are binary classifiers. To accelerate up the process, you might want to tune the hyperparameters using small validation sets. What level of precision can you achieve?"
      ],
      "metadata": {
        "id": "9IBjaVv1STHG"
      }
    },
    {
      "cell_type": "markdown",
      "source": [
        "10.On the California housing dataset, train an SVM regressor."
      ],
      "metadata": {
        "id": "4qritZ9dSZJH"
      }
    },
    {
      "cell_type": "markdown",
      "source": [
        ""
      ],
      "metadata": {
        "id": "6sQ2vAALSFmY"
      }
    }
  ]
}