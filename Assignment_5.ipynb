{
  "nbformat": 4,
  "nbformat_minor": 0,
  "metadata": {
    "colab": {
      "name": "Assignment_5.ipynb",
      "provenance": [],
      "collapsed_sections": [],
      "authorship_tag": "ABX9TyN3GUbMIasoBxdLeDDDGFB0",
      "include_colab_link": true
    },
    "kernelspec": {
      "name": "python3",
      "display_name": "Python 3"
    },
    "language_info": {
      "name": "python"
    }
  },
  "cells": [
    {
      "cell_type": "markdown",
      "metadata": {
        "id": "view-in-github",
        "colab_type": "text"
      },
      "source": [
        "<a href=\"https://colab.research.google.com/github/17sachin/Machine-Learning-Assignments/blob/main/Assignment_5.ipynb\" target=\"_parent\"><img src=\"https://colab.research.google.com/assets/colab-badge.svg\" alt=\"Open In Colab\"/></a>"
      ]
    },
    {
      "cell_type": "markdown",
      "source": [
        "1.What are the key tasks that machine learning entails? What does data pre-processing imply?\n",
        "\n",
        "Data preprocessing in Machine Learning refers to the technique of preparing (cleaning and organizing) the raw data to make it suitable for a building and training Machine Learning models."
      ],
      "metadata": {
        "id": "Tt1Rsbenfq2Q"
      }
    },
    {
      "cell_type": "markdown",
      "source": [
        "2.Describe quantitative and qualitative data in depth. Make a distinction between the two.\n",
        "\n",
        "There exists a fundamental distinction between two types of data: Quantitative data is information about quantities, and therefore numbers, and qualitative data is descriptive, and regards phenomenon which can be observed but not measured, such as language"
      ],
      "metadata": {
        "id": "_3oAfhoyfztR"
      }
    },
    {
      "cell_type": "markdown",
      "source": [
        "3.Create a basic data collection that includes some sample records. Have at least one attribute from\n",
        "each of the machine learning data types.\n",
        "\n"
      ],
      "metadata": {
        "id": "HQrubPl4f5EX"
      }
    },
    {
      "cell_type": "markdown",
      "source": [
        "4.What are the various causes of machine learning data issues? What are the ramifications?\n",
        "\n",
        "The number one problem facing Machine Learning is the lack of good data. While enhancing algorithms often consumes most of the time of developers in AI, data quality is essential for the algorithms to function as intended"
      ],
      "metadata": {
        "id": "gm5ONMvsgA0f"
      }
    },
    {
      "cell_type": "markdown",
      "source": [
        "5.Demonstrate various approaches to categorical data exploration with appropriate examples.\n",
        "\n",
        "Bar plots of contingency tables. Balloon plot. Mosaic plot. Correspondence analysis"
      ],
      "metadata": {
        "id": "Hr_47sapgGYC"
      }
    },
    {
      "cell_type": "markdown",
      "source": [
        "6.How would the learning activity be affected if certain variables have missing values? Having said\n",
        "that, what can be done about it?\n",
        "\n",
        "Even in a well-designed and controlled study, missing data occurs in almost all research. Missing data can reduce the statistical power of a study and can produce biased estimates, leading to invalid conclusions."
      ],
      "metadata": {
        "id": "8pvIgQpfgNAQ"
      }
    },
    {
      "cell_type": "markdown",
      "source": [
        "7.Describe the various methods for dealing with missing data values in depth.\n",
        "\n",
        "A common technique is to use the mean or median of the non-missing observations. This can be useful in cases where the number of missing observations is low. However, for large number of missing values, using mean or median can result in loss of variation in data and it is better to use imputations"
      ],
      "metadata": {
        "id": "PuZLdct2gTRI"
      }
    },
    {
      "cell_type": "markdown",
      "source": [
        "8.What are the various data pre-processing techniques? Explain dimensionality reduction and\n",
        "function selection in a few words.\n",
        "\n",
        "Data Cleaning/Cleansing. Cleaning “dirty” data. Real-world data tend to be incomplete, noisy, and inconsistent. \n",
        "\n",
        "Data Integration. Combining data from multiple sources.\n",
        "\n",
        "Data Transformation. Constructing data cube. \n",
        "\n",
        "Data Reduction. Reducing representation of data set."
      ],
      "metadata": {
        "id": "0vZVd9jqgYWY"
      }
    },
    {
      "cell_type": "markdown",
      "source": [
        "9.What is the IQR? What criteria are used to assess it?\n",
        "\n",
        "The interquartile range is calculated in much the same way as the range. All you do to find it is subtract the first quartile from the third quartile: IQR = Q3 – Q1. The interquartile range shows how the data is spread about the median"
      ],
      "metadata": {
        "id": "R2pXQsqpggUY"
      }
    },
    {
      "cell_type": "markdown",
      "source": [
        "10.Describe the various components of a box plot in detail? When will the lower whisker\n",
        "surpass the upper whisker in length? How can box plots be used to identify outliers?\n",
        "\n",
        "Similarly, the lower whisker boundary of the box plot is the smallest data value that is within 1.5 IQR below the first quartile. Here, 1.5 IQR below the first quartile is 52.5 °F and the minimum is 57 °F. Therefore, the lower whisker is drawn at the value of the minimum, which is 57 °F."
      ],
      "metadata": {
        "id": "dNCz-l0Xgo8I"
      }
    },
    {
      "cell_type": "markdown",
      "source": [
        ""
      ],
      "metadata": {
        "id": "0P8UbIqRfyNI"
      }
    }
  ]
}