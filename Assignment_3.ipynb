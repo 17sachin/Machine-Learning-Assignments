{
  "nbformat": 4,
  "nbformat_minor": 0,
  "metadata": {
    "colab": {
      "name": "Assignment_3.ipynb",
      "provenance": [],
      "collapsed_sections": [],
      "authorship_tag": "ABX9TyMXMNkWJhmBNKUK5d2XaH7T",
      "include_colab_link": true
    },
    "kernelspec": {
      "name": "python3",
      "display_name": "Python 3"
    },
    "language_info": {
      "name": "python"
    }
  },
  "cells": [
    {
      "cell_type": "markdown",
      "metadata": {
        "id": "view-in-github",
        "colab_type": "text"
      },
      "source": [
        "<a href=\"https://colab.research.google.com/github/17sachin/Machine-Learning-Assignments/blob/main/Assignment_3.ipynb\" target=\"_parent\"><img src=\"https://colab.research.google.com/assets/colab-badge.svg\" alt=\"Open In Colab\"/></a>"
      ]
    },
    {
      "cell_type": "markdown",
      "source": [
        "1.Explain the term machine learning, and how does it work? Explain two machine learning applications in the business world. What are some of the ethical concerns that machine learning applications could raise?\n",
        "\n",
        "Machine learning is an application of artificial intelligence (AI) that provides systems the ability to automatically learn and improve from experience without being explicitly programmed. Machine learning focuses on the development of computer programs that can access data and use it to learn for themselves.\n",
        "\n",
        "Customer churn modeling.\n",
        "\n",
        "Fraud detection\n",
        "\n",
        "Security problems.\n",
        "\n",
        "Lack of quality data.\n",
        "\n",
        "Disappearance of jobs.\n"
      ],
      "metadata": {
        "id": "o5nZwtxtTTR9"
      }
    },
    {
      "cell_type": "markdown",
      "source": [
        "2.Describe the process of human learning:\n",
        "\n",
        "i.Under the supervision of experts:\n",
        "\n",
        "ii. With the assistance of experts in an indirect manner\n",
        "\n",
        "iii. Self-education"
      ],
      "metadata": {
        "id": "TBZPxu_pUDR_"
      }
    },
    {
      "cell_type": "markdown",
      "source": [
        "3.Provide a few examples of various types of machine learning.\n",
        "\n",
        "3 types of Machine Learning\n",
        "Supervised Learning. Supervised learning is reckoned as the most popular and typical example of machine learning.\n",
        "\n",
        "Unsupervised Learning. Unsupervised learning is totally opposite to supervised learning. \n",
        "\n",
        "Reinforcement Learning."
      ],
      "metadata": {
        "id": "A9yaemIQUUWE"
      }
    },
    {
      "cell_type": "markdown",
      "source": [
        "4.Examine the various forms of machine learning.\n",
        "\n",
        "Three types of machine learning: supervised learning, unsupervised learning, and reinforcement learning."
      ],
      "metadata": {
        "id": "S_a2VMYMUeEU"
      }
    },
    {
      "cell_type": "markdown",
      "source": [
        "5.Can you explain what a well-posed learning problem is? Explain the main characteristics that must be present to identify a learning problem properly.\n",
        "\n",
        "Well Posed Learning Problem – A computer program is said to learn from experience E in context to some task T and some performance measure P, if its performance on T, as was measured by P, upgrades with experience E.\n",
        "\n",
        "Performance measure: must know when you.\"— Presentation transcript: 1 Well Posed Learning Problems Must identify the following 3 features –Learning Task: the thing you want to learn. –Performance measure: must know when you did bad and when you did good. Often called the critic\n",
        "\n"
      ],
      "metadata": {
        "id": "EhlPNrD6U1Nb"
      }
    },
    {
      "cell_type": "markdown",
      "source": [
        "6.Is machine learning capable of solving all problems? Give a detailed explanation of your answer.\n",
        "\n",
        "The Limitations of Machine Learning\n",
        "\n",
        "Each narrow application needs to be specially trained.\n",
        "\n",
        "Require large amounts of hand-crafted, structured training data.\n",
        "\n",
        "Learning must generally be supervised: Training data must be tagged.\n",
        "\n",
        "Require lengthy offline/ batch training.\n",
        "\n",
        "Do not learn incrementally or interactively, in real time.\n"
      ],
      "metadata": {
        "id": "ag19yVfCVN7o"
      }
    },
    {
      "cell_type": "markdown",
      "source": [
        "7.What are the various methods and technologies for solving machine learning problems? Any two of them should be defined in detail.\n",
        "\n",
        "Regression.\n",
        "\n",
        "Classification.\n",
        "\n",
        "Clustering.\n",
        "\n",
        "Dimensionality Reduction.\n",
        "\n",
        "Ensemble Methods.\n",
        "\n",
        "Neural Nets and Deep Learning.\n",
        "\n",
        "Transfer Learning.\n",
        "\n",
        "Reinforcement Learning.\n"
      ],
      "metadata": {
        "id": "0QJwTP8oVnra"
      }
    },
    {
      "cell_type": "markdown",
      "source": [
        "8.Can you explain the various forms of supervised learning? Explain each one with an example application.\n",
        "\n",
        "There are two types of Supervised Learning techniques:\n",
        "Regression and\n",
        "\n",
        "Classification. Classification separates the data, Regression fits the data\n",
        "\n",
        "Different Types of Supervised Learning\n",
        "Regression. In regression, a single output value is produced using training data. \n",
        "Classification. It involves grouping the data into classes. \n",
        "\n",
        "Naive Bayesian Model. \n",
        "\n",
        "Random Forest Model.\n",
        "\n",
        "Neural Networks.\n",
        "\n",
        "Support Vector Machines.\n",
        "\n"
      ],
      "metadata": {
        "id": "dnmb0io8WEWL"
      }
    },
    {
      "cell_type": "markdown",
      "source": [
        "9.What is the difference between supervised and unsupervised learning? With a sample application in each region, explain the differences.\n",
        "\n",
        "The main difference between supervised and unsupervised learning: Labeled data. The main distinction between the two approaches is the use of labeled datasets. To put it simply, supervised learning uses labeled input and output data, while an unsupervised learning algorithm does not\n"
      ],
      "metadata": {
        "id": "KJXb43usWhmb"
      }
    },
    {
      "cell_type": "markdown",
      "source": [
        "10.Describe the machine learning process in depth.\n",
        "\n",
        "Machine learning is a pathway to creating artificial intelligence, which in turn is one of the primary drivers of machine learning use in the enterprise. ... Some see machine learning as a subfield of AI, while others view AI essentially as a subfield of machine learning"
      ],
      "metadata": {
        "id": "G5v-OURSWxV0"
      }
    },
    {
      "cell_type": "markdown",
      "source": [
        "11.Make a comparison between:-\n",
        "\n",
        "1.Generalization and abstraction\n",
        "\n",
        "Abstraction is the process of removing details of objects. ... A generalization, then, is the formulation of general concepts from specific instances by abstracting common properties. A concrete object can be looked at as a “subset” of a more generalized object."
      ],
      "metadata": {
        "id": "EAOuceRGW-0a"
      }
    }
  ]
}