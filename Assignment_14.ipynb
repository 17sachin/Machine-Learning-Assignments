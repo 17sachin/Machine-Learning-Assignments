{
  "nbformat": 4,
  "nbformat_minor": 0,
  "metadata": {
    "colab": {
      "name": "Assignment_14.ipynb",
      "provenance": [],
      "collapsed_sections": [],
      "authorship_tag": "ABX9TyM6k3ltaVMVILVn7kQW3DMS",
      "include_colab_link": true
    },
    "kernelspec": {
      "name": "python3",
      "display_name": "Python 3"
    },
    "language_info": {
      "name": "python"
    }
  },
  "cells": [
    {
      "cell_type": "markdown",
      "metadata": {
        "id": "view-in-github",
        "colab_type": "text"
      },
      "source": [
        "<a href=\"https://colab.research.google.com/github/17sachin/Machine-Learning-Assignments/blob/main/Assignment_14.ipynb\" target=\"_parent\"><img src=\"https://colab.research.google.com/assets/colab-badge.svg\" alt=\"Open In Colab\"/></a>"
      ]
    },
    {
      "cell_type": "markdown",
      "source": [
        "1.What is the concept of supervised learning? What is the significance of the name?\n",
        "\n",
        "Supervised learning, as the name indicates, has the presence of a supervisor as a teacher. Basically supervised learning is when we teach or train the machine using data that is well labeled. Which means some data is already tagged with the correct answer."
      ],
      "metadata": {
        "id": "TSikBQO3hFyw"
      }
    },
    {
      "cell_type": "markdown",
      "source": [
        "2.In the hospital sector, offer an example of supervised learning.\n",
        "\n"
      ],
      "metadata": {
        "id": "hL9Yu2kkhOY4"
      }
    },
    {
      "cell_type": "markdown",
      "source": [
        "3.Give three supervised learning examples.\n",
        "\n",
        "Some popular examples of supervised machine learning algorithms are: Linear regression for regression problems. Random forest for classification and regression problems. Support vector machines for classification problems."
      ],
      "metadata": {
        "id": "zaI10i9ShSzE"
      }
    },
    {
      "cell_type": "markdown",
      "source": [
        "4.In supervised learning, what are classification and regression?\n",
        "\n",
        "Regression is a supervised machine learning technique which is used to predict continuous values. The ultimate goal of the regression algorithm is to plot a best-fit line or a curve between the data\n",
        "\n",
        "The Classification algorithm is a Supervised Learning technique that is used to identify the category of new observations on the basis of training data. In Classification, a program learns from the given dataset or observations and then classifies new observation into a number of classes or groups."
      ],
      "metadata": {
        "id": "mPQGyIlehY1I"
      }
    },
    {
      "cell_type": "markdown",
      "source": [
        "5.Give some popular classification algorithms as examples.\n",
        "\n",
        "Logistic Regression.\n",
        "\n",
        "Naive Bayes.\n",
        "\n",
        "K-Nearest Neighbors.\n",
        "\n",
        "Decision Tree.\n",
        "\n",
        "Support Vector Machines."
      ],
      "metadata": {
        "id": "hc8DFwOYhhUH"
      }
    },
    {
      "cell_type": "markdown",
      "source": [
        "6.Briefly describe the SVM model.\n",
        "\n",
        "“Support Vector Machine” (SVM) is a supervised machine learning algorithm that can be used for both classification or regression challenges. ... Support Vectors are simply the coordinates of individual observation. The SVM classifier is a frontier that best segregates the two classes (hyper-plane/ line)"
      ],
      "metadata": {
        "id": "Imv_rW-Phptv"
      }
    },
    {
      "cell_type": "markdown",
      "source": [
        "7.In SVM, what is the cost of misclassification?\n",
        "\n",
        "In cost-sensitive learning instead of each instance being either correctly or incorrectly classified, each class (or instance) is given a misclassification cost. Thus, instead of trying to optimize the accuracy, the problem is then to minimize the total misclassification cost."
      ],
      "metadata": {
        "id": "aIP68fwkhuL4"
      }
    },
    {
      "cell_type": "markdown",
      "source": [
        "8.In the SVM model, define Support Vectors.\n",
        "\n",
        "Support vectors are data points that are closer to the hyperplane and influence the position and orientation of the hyperplane. Using these support vectors, we maximize the margin of the classifier. Deleting the support vectors will change the position of the hyperplane. These are the points that help us build our SVM."
      ],
      "metadata": {
        "id": "QKCG4A85h1hh"
      }
    },
    {
      "cell_type": "markdown",
      "source": [
        "9.In the SVM model, define the kernel.\n",
        "\n",
        "“Kernel” is used due to a set of mathematical functions used in Support Vector Machine providing the window to manipulate the data. So, Kernel Function generally transforms the training set of data so that a non-linear decision surface is able to transform to a linear equation in a higher number of dimension spaces."
      ],
      "metadata": {
        "id": "-C2HmTZ4h8Hg"
      }
    },
    {
      "cell_type": "markdown",
      "source": [
        "10.What are the factors that influence SVM&#39;s effectiveness?\n",
        "\n",
        "Support vector machine is a classifier, based on the structured risk minimization principle. The performance of the SVM depends on different parameters such as penalty factor, , and the kernel factor, . Also choosing an appropriate kernel function can improve the recognition score and lower the amount of computation."
      ],
      "metadata": {
        "id": "4jcRNYFAiAqB"
      }
    },
    {
      "cell_type": "markdown",
      "source": [
        "11.What are the benefits of using the SVM model?\n",
        "\n",
        "SVM works relatively well when there is a clear margin of separation between classes. SVM is more effective in high dimensional spaces. SVM is effective in cases where the number of dimensions is greater than the number of samples. SVM is relatively memory efficient."
      ],
      "metadata": {
        "id": "3NZD5zhniIqx"
      }
    }
  ]
}